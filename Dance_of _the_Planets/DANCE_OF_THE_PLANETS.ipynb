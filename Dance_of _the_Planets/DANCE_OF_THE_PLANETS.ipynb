{
  "nbformat": 4,
  "nbformat_minor": 0,
  "metadata": {
    "colab": {
      "provenance": []
    },
    "kernelspec": {
      "name": "python3",
      "display_name": "Python 3"
    },
    "language_info": {
      "name": "python"
    }
  },
  "cells": [
    {
      "cell_type": "code",
      "execution_count": 1,
      "metadata": {
        "colab": {
          "base_uri": "https://localhost:8080/"
        },
        "id": "k_pWizbHtPGa",
        "outputId": "e59e96a0-655b-46b8-a328-b8a9b71b601e"
      },
      "outputs": [
        {
          "output_type": "stream",
          "name": "stdout",
          "text": [
            "Enter values as comma-separated floats, e.g., 1.0, 2.0\n",
            "Mass of body 1 (m1): 10\n",
            "Mass of body 2 (m2): 12\n",
            "Initial position of body 1 (x1, y1): 0,0\n",
            "Initial position of body 2 (x2, y2): 4,0\n",
            "Initial velocity of body 1 (vx1, vy1): 2,2\n",
            "Initial velocity of body 2 (vx2, vy2): 4,5\n",
            "Prediction time T (seconds): 10\n",
            "m1 = 10.0, m2 = 12.0\n",
            "x1_0 = [0. 0.], x2_0 = [4. 0.]\n",
            "v1_0 = [2. 2.], v2_0 = [4. 5.]\n",
            "T = 10.0\n"
          ]
        }
      ],
      "source": [
        "import numpy as np\n",
        "\n",
        "# gravitational constant\n",
        "G = 1\n",
        "\n",
        "print(\"Enter values as comma-separated floats, e.g., 1.0, 2.0\")\n",
        "\n",
        "# masses\n",
        "m1 = float(input(\"Mass of body 1 (m1): \"))\n",
        "m2 = float(input(\"Mass of body 2 (m2): \"))\n",
        "\n",
        "# Initial positions (2D vectors)\n",
        "x1_0 = np.array([float(i) for i in input(\"Initial position of body 1 (x1, y1): \").split(\",\")])\n",
        "x2_0 = np.array([float(i) for i in input(\"Initial position of body 2 (x2, y2): \").split(\",\")])\n",
        "\n",
        "# Initial velocities (2D vectors)\n",
        "v1_0 = np.array([float(i) for i in input(\"Initial velocity of body 1 (vx1, vy1): \").split(\",\")])\n",
        "v2_0 = np.array([float(i) for i in input(\"Initial velocity of body 2 (vx2, vy2): \").split(\",\")])\n",
        "\n",
        "# Time of prediction\n",
        "T = float(input(\"Prediction time T (seconds): \"))\n",
        "\n",
        "print(f\"m1 = {m1}, m2 = {m2}\")\n",
        "print(f\"x1_0 = {x1_0}, x2_0 = {x2_0}\")\n",
        "print(f\"v1_0 = {v1_0}, v2_0 = {v2_0}\")\n",
        "print(f\"T = {T}\")"
      ]
    },
    {
      "cell_type": "code",
      "source": [
        "from scipy.integrate import solve_ivp\n",
        "\n",
        "def two_body_equations(t, y):\n",
        "    x1, y1, x2, y2, vx1, vy1, vx2, vy2 = y\n",
        "    r1 = np.array([x1, y1])\n",
        "    r2 = np.array([x2, y2])\n",
        "    r12 = r2 - r1\n",
        "    r = np.linalg.norm(r12)\n",
        "\n",
        "    a1 = G * m2 * r12 / r**3\n",
        "    a2 = -G * m1 * r12 / r**3\n",
        "\n",
        "    return [vx1, vy1, vx2, vy2, *a1, *a2]\n",
        "\n",
        "# initial state\n",
        "y0 = [*x1_0, *x2_0, *v1_0, *v2_0]\n",
        "time_span = (0, T)\n",
        "t_eval = np.linspace(0, T, 500)\n",
        "\n",
        "sol = solve_ivp(two_body_equations, time_span, y0, t_eval=t_eval)\n",
        "X_train = t_eval.reshape(-1, 1)\n",
        "Y_train = sol.y.T  # positions and velocities at each time step\n"
      ],
      "metadata": {
        "id": "24rDuESItlKv"
      },
      "execution_count": 2,
      "outputs": []
    },
    {
      "cell_type": "code",
      "source": [
        "import torch\n",
        "import torch.nn as nn\n",
        "\n",
        "class TrajectoryNet(nn.Module):\n",
        "    def __init__(self):\n",
        "        super().__init__()\n",
        "        self.net = nn.Sequential(\n",
        "            nn.Linear(1, 128),\n",
        "            nn.Tanh(),\n",
        "            nn.Linear(128, 128),\n",
        "            nn.Tanh(),\n",
        "            nn.Linear(128, 8)\n",
        "        )\n",
        "\n",
        "    def forward(self, t):\n",
        "        return self.net(t)\n",
        "\n",
        "model = TrajectoryNet()"
      ],
      "metadata": {
        "id": "4KWUQ1xTvCJA"
      },
      "execution_count": 3,
      "outputs": []
    },
    {
      "cell_type": "code",
      "source": [
        "def mae_loss(pred, target):\n",
        "    return torch.mean(torch.abs(pred - target))\n",
        "\n",
        "def ode_residual_loss(model, t):\n",
        "    t.requires_grad_(True)\n",
        "\n",
        "    pred = model(t)\n",
        "\n",
        "    x1 = pred[:, 0]\n",
        "    y1 = pred[:, 1]\n",
        "    x2 = pred[:, 2]\n",
        "    y2 = pred[:, 3]\n",
        "\n",
        "    r1 = torch.stack([x1, y1], dim=1)\n",
        "    r2 = torch.stack([x2, y2], dim=1)\n",
        "    r12 = r2 - r1\n",
        "    r = torch.norm(r12, dim=1, keepdim=True)\n",
        "\n",
        "    vel = torch.autograd.grad(r1, t, grad_outputs=torch.ones_like(r1), create_graph=True)[0]\n",
        "    vel2 = torch.autograd.grad(r2, t, grad_outputs=torch.ones_like(r2), create_graph=True)[0]\n",
        "\n",
        "    acc1 = torch.autograd.grad(vel, t, grad_outputs=torch.ones_like(vel), create_graph=True)[0]\n",
        "    acc2 = torch.autograd.grad(vel2, t, grad_outputs=torch.ones_like(vel2), create_graph=True)[0]\n",
        "\n",
        "    true_acc1 = G * m2 * r12 / r**3\n",
        "    true_acc2 = -G * m1 * r12 / r**3\n",
        "\n",
        "    return torch.mean((acc1 - true_acc1)**2 + (acc2 - true_acc2)**2)\n",
        "\n"
      ],
      "metadata": {
        "id": "Hk5IspzVxtO8"
      },
      "execution_count": 4,
      "outputs": []
    },
    {
      "cell_type": "code",
      "source": [
        "import torch.optim as optim\n",
        "\n",
        "t_train = torch.tensor(X_train, dtype=torch.float32)\n",
        "y_train = torch.tensor(Y_train, dtype=torch.float32)\n",
        "\n",
        "optimizer = optim.Adam(model.parameters(), lr=1e-3)\n",
        "\n",
        "for epoch in range(10000):\n",
        "    model.train()\n",
        "    optimizer.zero_grad()\n",
        "\n",
        "    t_train_grad = t_train.clone().detach().requires_grad_(True)\n",
        "\n",
        "    pred = model(t_train_grad)\n",
        "    loss_mae = mae_loss(pred, y_train)\n",
        "    loss_ode = ode_residual_loss(model, t_train_grad)\n",
        "    total_loss = loss_mae + 0.1 * loss_ode\n",
        "\n",
        "    total_loss.backward()\n",
        "    optimizer.step()\n",
        "\n",
        "    if epoch % 100 == 0:\n",
        "        print(f\"Epoch {epoch}: MAE={loss_mae.item():.4f}, ODE={loss_ode.item():.4f}\")\n",
        "\n"
      ],
      "metadata": {
        "colab": {
          "base_uri": "https://localhost:8080/"
        },
        "id": "dSKumnxtx2j2",
        "outputId": "760eb839-c8cf-4c39-c178-adb9f8daacdd"
      },
      "execution_count": 5,
      "outputs": [
        {
          "output_type": "stream",
          "name": "stdout",
          "text": [
            "Epoch 0: MAE=10.4389, ODE=256793.8906\n",
            "Epoch 100: MAE=8.8641, ODE=1.0744\n",
            "Epoch 200: MAE=8.7888, ODE=1.0731\n",
            "Epoch 300: MAE=8.7714, ODE=1.0718\n",
            "Epoch 400: MAE=8.7633, ODE=1.0704\n",
            "Epoch 500: MAE=8.7575, ODE=1.0687\n",
            "Epoch 600: MAE=8.7522, ODE=1.0668\n",
            "Epoch 700: MAE=8.7480, ODE=1.0648\n",
            "Epoch 800: MAE=8.7439, ODE=1.0626\n",
            "Epoch 900: MAE=8.7400, ODE=1.0601\n",
            "Epoch 1000: MAE=8.7381, ODE=1.0575\n",
            "Epoch 1100: MAE=8.7341, ODE=1.0547\n",
            "Epoch 1200: MAE=8.7312, ODE=1.0517\n",
            "Epoch 1300: MAE=8.7298, ODE=1.0486\n",
            "Epoch 1400: MAE=8.7277, ODE=1.0452\n",
            "Epoch 1500: MAE=8.7267, ODE=1.0418\n",
            "Epoch 1600: MAE=8.7235, ODE=1.0381\n",
            "Epoch 1700: MAE=8.7198, ODE=1.0343\n",
            "Epoch 1800: MAE=8.7163, ODE=1.0303\n",
            "Epoch 1900: MAE=8.7139, ODE=1.0261\n",
            "Epoch 2000: MAE=8.7112, ODE=1.0218\n",
            "Epoch 2100: MAE=8.7084, ODE=1.0173\n",
            "Epoch 2200: MAE=8.7046, ODE=1.0127\n",
            "Epoch 2300: MAE=8.7012, ODE=1.0079\n",
            "Epoch 2400: MAE=8.6985, ODE=1.0029\n",
            "Epoch 2500: MAE=8.6960, ODE=0.9978\n",
            "Epoch 2600: MAE=8.6918, ODE=0.9925\n",
            "Epoch 2700: MAE=8.6887, ODE=0.9870\n",
            "Epoch 2800: MAE=8.6845, ODE=0.9814\n",
            "Epoch 2900: MAE=8.6816, ODE=0.9756\n",
            "Epoch 3000: MAE=8.6784, ODE=0.9696\n",
            "Epoch 3100: MAE=8.6747, ODE=0.9634\n",
            "Epoch 3200: MAE=8.6699, ODE=0.9571\n",
            "Epoch 3300: MAE=8.6662, ODE=0.9506\n",
            "Epoch 3400: MAE=8.6621, ODE=0.9440\n",
            "Epoch 3500: MAE=8.6583, ODE=0.9371\n",
            "Epoch 3600: MAE=8.6532, ODE=0.9302\n",
            "Epoch 3700: MAE=8.6491, ODE=0.9230\n",
            "Epoch 3800: MAE=8.6438, ODE=0.9157\n",
            "Epoch 3900: MAE=8.6398, ODE=0.9082\n",
            "Epoch 4000: MAE=8.6343, ODE=0.9006\n",
            "Epoch 4100: MAE=8.6276, ODE=0.8928\n",
            "Epoch 4200: MAE=8.6231, ODE=0.8848\n",
            "Epoch 4300: MAE=8.6178, ODE=0.8767\n",
            "Epoch 4400: MAE=8.6107, ODE=0.8684\n",
            "Epoch 4500: MAE=8.6049, ODE=0.8600\n",
            "Epoch 4600: MAE=8.5985, ODE=0.8514\n",
            "Epoch 4700: MAE=8.5900, ODE=0.8427\n",
            "Epoch 4800: MAE=8.5839, ODE=0.8338\n",
            "Epoch 4900: MAE=8.5769, ODE=0.8248\n",
            "Epoch 5000: MAE=8.5681, ODE=0.8157\n",
            "Epoch 5100: MAE=8.5607, ODE=0.8064\n",
            "Epoch 5200: MAE=8.5508, ODE=0.7971\n",
            "Epoch 5300: MAE=8.5443, ODE=0.7876\n",
            "Epoch 5400: MAE=8.5349, ODE=0.7781\n",
            "Epoch 5500: MAE=8.5246, ODE=0.7685\n",
            "Epoch 5600: MAE=8.5136, ODE=0.7589\n",
            "Epoch 5700: MAE=8.5029, ODE=0.7492\n",
            "Epoch 5800: MAE=8.4919, ODE=0.7396\n",
            "Epoch 5900: MAE=8.4782, ODE=0.7299\n",
            "Epoch 6000: MAE=8.4653, ODE=0.7204\n",
            "Epoch 6100: MAE=8.4532, ODE=0.7109\n",
            "Epoch 6200: MAE=8.4386, ODE=0.7015\n",
            "Epoch 6300: MAE=8.4249, ODE=0.6922\n",
            "Epoch 6400: MAE=8.4101, ODE=0.6831\n",
            "Epoch 6500: MAE=8.3934, ODE=0.6742\n",
            "Epoch 6600: MAE=8.3772, ODE=0.6657\n",
            "Epoch 6700: MAE=8.3594, ODE=0.6574\n",
            "Epoch 6800: MAE=8.3397, ODE=0.6494\n",
            "Epoch 6900: MAE=8.3208, ODE=0.6417\n",
            "Epoch 7000: MAE=8.3008, ODE=0.6346\n",
            "Epoch 7100: MAE=8.2807, ODE=0.6278\n",
            "Epoch 7200: MAE=8.2582, ODE=0.6216\n",
            "Epoch 7300: MAE=8.2362, ODE=0.6158\n",
            "Epoch 7400: MAE=8.2150, ODE=0.6107\n",
            "Epoch 7500: MAE=8.1912, ODE=0.6061\n",
            "Epoch 7600: MAE=8.1673, ODE=0.6023\n",
            "Epoch 7700: MAE=8.1427, ODE=0.5992\n",
            "Epoch 7800: MAE=8.1170, ODE=0.5970\n",
            "Epoch 7900: MAE=8.0899, ODE=0.5958\n",
            "Epoch 8000: MAE=8.0628, ODE=0.5955\n",
            "Epoch 8100: MAE=8.0332, ODE=0.5961\n",
            "Epoch 8200: MAE=8.0031, ODE=0.5978\n",
            "Epoch 8300: MAE=7.9705, ODE=0.6006\n",
            "Epoch 8400: MAE=7.9385, ODE=0.6044\n",
            "Epoch 8500: MAE=7.9022, ODE=0.6093\n",
            "Epoch 8600: MAE=7.8707, ODE=0.6154\n",
            "Epoch 8700: MAE=7.8310, ODE=0.6225\n",
            "Epoch 8800: MAE=7.7937, ODE=0.6310\n",
            "Epoch 8900: MAE=7.7529, ODE=0.6410\n",
            "Epoch 9000: MAE=7.7100, ODE=0.6523\n",
            "Epoch 9100: MAE=7.6669, ODE=0.6650\n",
            "Epoch 9200: MAE=7.6214, ODE=0.6790\n",
            "Epoch 9300: MAE=7.5752, ODE=0.6947\n",
            "Epoch 9400: MAE=7.5247, ODE=0.7119\n",
            "Epoch 9500: MAE=7.4702, ODE=0.7312\n",
            "Epoch 9600: MAE=7.4162, ODE=0.7522\n",
            "Epoch 9700: MAE=7.3581, ODE=0.7748\n",
            "Epoch 9800: MAE=7.2980, ODE=0.7992\n",
            "Epoch 9900: MAE=7.2346, ODE=0.8251\n"
          ]
        }
      ]
    },
    {
      "cell_type": "code",
      "source": [
        "model.eval()\n",
        "t_test = torch.tensor([[T]], dtype=torch.float32)\n",
        "final_pos = model(t_test)[0, :4].detach().numpy()\n",
        "print(f\"Predicted final positions at T={T}:\")\n",
        "print(f\"x1 = {final_pos[:2]}, x2 = {final_pos[2:]}\")"
      ],
      "metadata": {
        "colab": {
          "base_uri": "https://localhost:8080/"
        },
        "id": "-aNwd1bpx49Q",
        "outputId": "99d5523c-4bf7-4e5a-c7d7-6ad0a4aacce9"
      },
      "execution_count": 7,
      "outputs": [
        {
          "output_type": "stream",
          "name": "stdout",
          "text": [
            "Predicted final positions at T=10.0:\n",
            "x1 = [3.0336163 1.1396233], x2 = [7.073873  3.7909002]\n"
          ]
        }
      ]
    },
    {
      "cell_type": "code",
      "source": [
        "import matplotlib.pyplot as plt\n",
        "\n",
        "model.eval()\n",
        "with torch.no_grad():\n",
        "    t_all = torch.tensor(X_train, dtype=torch.float32)\n",
        "    predictions = model(t_all).numpy()\n",
        "\n",
        "x1_pred, y1_pred = predictions[:, 0], predictions[:, 1]\n",
        "x2_pred, y2_pred = predictions[:, 2], predictions[:, 3]\n",
        "\n",
        "# predicted trajectory\n",
        "plt.figure(figsize=(8, 6))\n",
        "plt.plot(x1_pred, y1_pred, label=\"Body 1\", color='blue')\n",
        "plt.plot(x2_pred, y2_pred, label=\"Body 2\", color='red')\n",
        "plt.scatter(x1_pred[0], y1_pred[0], color='blue', marker='o', label='Start Body 1')\n",
        "plt.scatter(x2_pred[0], y2_pred[0], color='red', marker='o', label='Start Body 2')\n",
        "plt.xlabel(\"x\")\n",
        "plt.ylabel(\"y\")\n",
        "plt.title(\"Predicted Two-Body Trajectories (PINN)\")\n",
        "plt.legend()\n",
        "plt.grid(True)\n",
        "plt.axis(\"equal\")\n",
        "plt.show()\n"
      ],
      "metadata": {
        "colab": {
          "base_uri": "https://localhost:8080/",
          "height": 564
        },
        "id": "Pj6gy54o7525",
        "outputId": "ec41f7a5-9f52-4448-b3ea-f46cd9fba14b"
      },
      "execution_count": 8,
      "outputs": [
        {
          "output_type": "display_data",
          "data": {
            "text/plain": [
              "<Figure size 800x600 with 1 Axes>"
            ],
            "image/png": "[encoded data removed]"
          },
          "metadata": {}
        }
      ]
    },
    {
      "cell_type": "code",
      "source": [],
      "metadata": {
        "id": "SmJbZfrCBMEe"
      },
      "execution_count": null,
      "outputs": []
    }
  ]
}